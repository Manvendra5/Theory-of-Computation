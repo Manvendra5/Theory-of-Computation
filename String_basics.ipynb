{
 "cells": [
  {
   "cell_type": "code",
   "execution_count": null,
   "metadata": {},
   "outputs": [],
   "source": [
    "strng=input(\"Enter the string :\")\n",
    "print(strng.upper()) #uppercase to lowercase conversion\n",
    "print(strng.lower())\n",
    "print(strng.upper()+\" xyz\") #concatenation\n",
    "print(strng.replace(\" \",\"\"))"
   ]
  },
  {
   "cell_type": "code",
   "execution_count": null,
   "metadata": {},
   "outputs": [],
   "source": [
    "#replace()\n",
    "strng=input(\"Enter the string :\")\n",
    "print(len(strng))\n",
    "print(len(strng)-len(strng.replace(\" \",\"\")))"
   ]
  },
  {
   "cell_type": "code",
   "execution_count": null,
   "metadata": {},
   "outputs": [],
   "source": [
    "import string\n",
    "strng=input()\n",
    "for c in strng:\n",
    "    if c in string.punctuation:\n",
    "        count=count+1\n",
    "print(count)"
   ]
  },
  {
   "cell_type": "code",
   "execution_count": null,
   "metadata": {},
   "outputs": [],
   "source": [
    "#replacing spaces or any other string in a sentence  \n",
    "strng=input()\n",
    "x=input(\"enter target string :\")\n",
    "y=input(\"enter the replacement :\")\n",
    "print(strng.replace(x,y))"
   ]
  }
 ],
 "metadata": {
  "kernelspec": {
   "display_name": "Python 3",
   "language": "python",
   "name": "python3"
  },
  "language_info": {
   "codemirror_mode": {
    "name": "ipython",
    "version": 3
   },
   "file_extension": ".py",
   "mimetype": "text/x-python",
   "name": "python",
   "nbconvert_exporter": "python",
   "pygments_lexer": "ipython3",
   "version": "3.6.7"
  }
 },
 "nbformat": 4,
 "nbformat_minor": 2
}
