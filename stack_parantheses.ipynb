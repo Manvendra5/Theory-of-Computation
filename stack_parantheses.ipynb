{
 "cells": [
  {
   "cell_type": "code",
   "execution_count": 1,
   "metadata": {},
   "outputs": [
    {
     "name": "stdin",
     "output_type": "stream",
     "text": [
      "enter the braces : ((()))\n"
     ]
    },
    {
     "name": "stdout",
     "output_type": "stream",
     "text": [
      "True!!!\n"
     ]
    }
   ],
   "source": [
    "def enter():\n",
    "    global strng\n",
    "    strng=input(\"enter the braces :\")\n",
    "    siz=len(strng)\n",
    "    count=0\n",
    "    if siz==0:\n",
    "        print(\"empty string\")\n",
    "        exit()\n",
    "    elif siz%2!=0:\n",
    "        print(\"odd number of braces\")\n",
    "        exit()\n",
    "    for i in range(0,len(strng)):\n",
    "        if strng[i]!=strng[-(siz-1)]:\n",
    "            count=count+1\n",
    "        siz=siz-1\n",
    "    if  count!=0:\n",
    "        print(\"True!!!\")\n",
    "    else :\n",
    "        print(\"False\")\n",
    "enter()\n",
    "\n"
   ]
  },
  {
   "cell_type": "code",
   "execution_count": null,
   "metadata": {},
   "outputs": [],
   "source": []
  }
 ],
 "metadata": {
  "kernelspec": {
   "display_name": "Python 3",
   "language": "python",
   "name": "python3"
  },
  "language_info": {
   "codemirror_mode": {
    "name": "ipython",
    "version": 3
   },
   "file_extension": ".py",
   "mimetype": "text/x-python",
   "name": "python",
   "nbconvert_exporter": "python",
   "pygments_lexer": "ipython3",
   "version": "3.6.7"
  }
 },
 "nbformat": 4,
 "nbformat_minor": 2
}
