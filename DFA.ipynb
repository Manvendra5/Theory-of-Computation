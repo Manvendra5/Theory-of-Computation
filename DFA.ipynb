{
 "cells": [
  {
   "cell_type": "code",
   "execution_count": 1,
   "metadata": {},
   "outputs": [
    {
     "name": "stdout",
     "output_type": "stream",
     "text": [
      "enter the string :10001\n",
      "False\n"
     ]
    }
   ],
   "source": [
    "#DFA machine for language containing a string with no three consecutive zeroes\n",
    "d={'q0':{'0':'q1','1':'q0'},'q1':{'0':'q2','1':'q0'},'q2':{'0':'q3','1':'q0'},'q3':{'0':'q3','1':'q3'}}\n",
    "initial='q0'\n",
    "final_states=['q0','q1','q2']\n",
    "strng=input(\"enter the string :\")\n",
    "def run(strng):\n",
    "    global d,final_states\n",
    "    state=initial\n",
    "    for inp in strng:\n",
    "        state=d[state][inp]\n",
    "    return state in final_states\n",
    "print(run(strng))    "
   ]
  },
  {
   "cell_type": "code",
   "execution_count": 2,
   "metadata": {},
   "outputs": [
    {
     "name": "stdout",
     "output_type": "stream",
     "text": [
      "enter the string :10001\n",
      "True\n"
     ]
    }
   ],
   "source": [
    "#DFA machine for language containing a string with three consecutive zeroes\n",
    "d={'q0':{'0':'q1','1':'q0'},'q1':{'0':'q2','1':'q0'},'q2':{'0':'q3','1':'q0'},'q3':{'0':'q3','1':'q3'}}\n",
    "initial='q0'\n",
    "final_states=['q3']\n",
    "strng=input(\"enter the string :\")\n",
    "def run(strng):\n",
    "    global d,final_states\n",
    "    state=initial\n",
    "    for inp in strng:\n",
    "        state=d[state][inp]\n",
    "    return state in final_states\n",
    "print(run(strng))    "
   ]
  },
  {
   "cell_type": "code",
   "execution_count": 3,
   "metadata": {},
   "outputs": [
    {
     "name": "stdout",
     "output_type": "stream",
     "text": [
      "enter the string :111101\n",
      "True\n"
     ]
    }
   ],
   "source": [
    "#DFA machine for language containing  strings that end with 101\n",
    "d={'q0':{'0':'q0','1':'q1'},'q1':{'0':'q2','1':'q1'},'q2':{'0':'q1','1':'q3'},'q3':{'0':'q0','1':'q1'}}\n",
    "initial='q0'\n",
    "final_states=['q3']\n",
    "strng=input(\"enter the string :\")\n",
    "def run(strng):\n",
    "    global d,final_states\n",
    "    state=initial\n",
    "    for inp in strng:\n",
    "        state=d[state][inp]\n",
    "    return state in final_states\n",
    "print(run(strng))    "
   ]
  },
  {
   "cell_type": "code",
   "execution_count": 4,
   "metadata": {},
   "outputs": [
    {
     "name": "stdout",
     "output_type": "stream",
     "text": [
      "enter the string :111010\n",
      "True\n"
     ]
    }
   ],
   "source": [
    "#DFA machine for mod 3  language \n",
    "d={'q0':{'0':'q1','1':'q1'},'q1':{'0':'q2','1':'q2'},'q2':{'0':'q0','1':'q0'}}\n",
    "initial='q0'\n",
    "final_states=['q0']\n",
    "strng=input(\"enter the string :\")\n",
    "def run(strng):\n",
    "    global d,final_states\n",
    "    state=initial\n",
    "    for inp in strng:\n",
    "        state=d[state][inp]\n",
    "    return state in final_states\n",
    "print(run(strng))    "
   ]
  },
  {
   "cell_type": "code",
   "execution_count": null,
   "metadata": {},
   "outputs": [],
   "source": []
  }
 ],
 "metadata": {
  "kernelspec": {
   "display_name": "Python 3",
   "language": "python",
   "name": "python3"
  },
  "language_info": {
   "codemirror_mode": {
    "name": "ipython",
    "version": 3
   },
   "file_extension": ".py",
   "mimetype": "text/x-python",
   "name": "python",
   "nbconvert_exporter": "python",
   "pygments_lexer": "ipython3",
   "version": "3.6.7"
  }
 },
 "nbformat": 4,
 "nbformat_minor": 2
}
