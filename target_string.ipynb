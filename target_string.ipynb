{
 "cells": [
  {
   "cell_type": "code",
   "execution_count": 6,
   "metadata": {},
   "outputs": [
    {
     "name": "stdout",
     "output_type": "stream",
     "text": [
      "manvendra singh bais\n",
      "enter target string :singh\n",
      "enter the replacement :\n",
      "manvendra  bais\n"
     ]
    }
   ],
   "source": [
    "#replacing spaces or any other string in a sentence  \n",
    "strng=input()\n",
    "x=input(\"enter target string :\")\n",
    "y=input(\"enter the replacement :\")\n",
    "print(strng.replace(x,y))"
   ]
  },
  {
   "cell_type": "code",
   "execution_count": null,
   "metadata": {},
   "outputs": [],
   "source": []
  }
 ],
 "metadata": {
  "kernelspec": {
   "display_name": "Python 3",
   "language": "python",
   "name": "python3"
  },
  "language_info": {
   "codemirror_mode": {
    "name": "ipython",
    "version": 3
   },
   "file_extension": ".py",
   "mimetype": "text/x-python",
   "name": "python",
   "nbconvert_exporter": "python",
   "pygments_lexer": "ipython3",
   "version": "3.6.7"
  }
 },
 "nbformat": 4,
 "nbformat_minor": 2
}
