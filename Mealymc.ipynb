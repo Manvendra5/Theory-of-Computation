{
 "cells": [
  {
   "cell_type": "markdown",
   "metadata": {},
   "source": [
    "1-MEALY MACHINE OUTPUT WHEN 1'S ARE EVEN OR ODD(USING DICT AND DICT)"
   ]
  },
  {
   "cell_type": "code",
   "execution_count": null,
   "metadata": {},
   "outputs": [],
   "source": [
    "#Case2\n",
    "dfa1={}\n",
    "dfa1[('a','0')]='a'\n",
    "dfa1[('b','0')]='b'\n",
    "dfa1[('a','1')]='b'\n",
    "dfa1[('b','1')]='a'\n",
    "dfa2={}\n",
    "dfa2[('a','0')]='even'\n",
    "dfa2[('b','0')]='odd'\n",
    "dfa2[('a','1')]='even'\n",
    "dfa2[('b','1')]='odd'\n",
    "\n",
    "class Eab:\n",
    "    def __init__(self,dfa1):\n",
    "        self.ins='a'\n",
    "        self.CS='a'\n",
    "        self.fs={'b'}\n",
    "        \n",
    "    def moves(self,string):\n",
    "        for i in string:\n",
    "            self.CS=dfa1[(self.CS,i)]\n",
    "            print(self.CS)\n",
    "            print (dfa2[(self.CS,i)])\n",
    "        \n",
    "\n",
    "str=input(\"enter string\")\n",
    "ob1=Eab(dfa1)\n",
    "ob1.moves(str)"
   ]
  },
  {
   "cell_type": "code",
   "execution_count": null,
   "metadata": {},
   "outputs": [],
   "source": [
    "#Case2\n",
    "dfa1={}\n",
    "dfa1[('a','0')]='a'\n",
    "dfa1[('b','0')]='b'\n",
    "dfa1[('a','1')]='b'\n",
    "dfa1[('b','1')]='a'\n",
    "dfa2={}\n",
    "dfa2[('a','0')]='even'\n",
    "dfa2[('b','0')]='odd'\n",
    "dfa2[('a','1')]='even'\n",
    "dfa2[('b','1')]='odd'\n",
    "\n",
    "class Eab:\n",
    "    def __init__(self,dfa1):\n",
    "        self.ins='a'\n",
    "        self.CS='a'\n",
    "        self.fs={'b'}\n",
    "        \n",
    "    def moves(self,string):\n",
    "        for i in string:\n",
    "            self.CS=dfa1[(self.CS,i)]\n",
    "            print(self.CS)\n",
    "            print (dfa2[(self.CS,i)])\n",
    "        \n",
    "\n",
    "str=input(\"enter string\")\n",
    "ob1=Eab(dfa1)\n",
    "ob1.moves(str)"
   ]
  },
  {
   "cell_type": "markdown",
   "metadata": {},
   "source": [
    "2-MEALY MACHINE OUTPUT WHEN 1'S ARE EVEN OR ODD(USING LIST AND DICT)"
   ]
  },
  {
   "cell_type": "code",
   "execution_count": null,
   "metadata": {},
   "outputs": [],
   "source": [
    "#CASE-1\n",
    "dfa={'a':{'0':['Even','a'],'1':['Odd','b']},\n",
    "     'b':{'0':['Odd','b'],'1':['Even','a']}}\n",
    "class Mealy:\n",
    "    def  __init__(self,dfa):\n",
    "        self.CS='a'\n",
    "    def moves(self,string):\n",
    "        for i in range(len(string)):\n",
    "            State=dfa[self.CS][string[i]]\n",
    "            print(State[1])\n",
    "            self.CS=State[1]\n",
    "            output=State[0]\n",
    "        print(output)\n",
    "str=input(\"Enter the string \")\n",
    "t=Mealy(dfa)\n",
    "t.moves(str)"
   ]
  },
  {
   "cell_type": "code",
   "execution_count": null,
   "metadata": {},
   "outputs": [],
   "source": [
    "#CASE-2\n",
    "dfa={'a':{'0':['Even','a'],'1':['Odd','b']},\n",
    "     'b':{'0':['Odd','b'],'1':['Even','a']}}\n",
    "class Mealy:\n",
    "    def  __init__(self,dfa):\n",
    "        self.CS='a'\n",
    "    def moves(self,string):\n",
    "        for i in range(len(string)):\n",
    "            State=dfa[self.CS][string[i]]\n",
    "            print(State[1])\n",
    "            self.CS=State[1]\n",
    "            output=State[0]\n",
    "        print(output)\n",
    "str=input(\"Enter the string \")\n",
    "t=Mealy(dfa)\n",
    "t.moves(str)"
   ]
  },
  {
   "cell_type": "markdown",
   "metadata": {},
   "source": [
    "3-MEALY MACHINE OUTPUT 1'S COMPLIMENT(USING TUPLE AND DICT)"
   ]
  },
  {
   "cell_type": "code",
   "execution_count": null,
   "metadata": {},
   "outputs": [],
   "source": [
    "dfa = {'a':{'0':('a','1'),'1':('a','0')}}\n",
    "class Mealy:\n",
    "    def __init__(self,dfa):\n",
    "        self.CS='a'\n",
    "        \n",
    "    def moves(self,str1):\n",
    "        revstr=\"\"\n",
    "        for i in str1:\n",
    "            self.x=self.CS\n",
    "            self.CS=dfa[self.CS][i][0]\n",
    "            output=dfa[self.x][i][1]\n",
    "            revstr=revstr+output\n",
    "        print(reverse(revstr))\n",
    "def reverse(string): \n",
    "        string = string[::-1] \n",
    "        return string  \n",
    "string=input(\"enter a string\")\n",
    "str1=reverse(string)\n",
    "t=Mealy(dfa)\n",
    "t.moves(str1)"
   ]
  },
  {
   "cell_type": "markdown",
   "metadata": {},
   "source": [
    "4-MEALY MACHINE INCREMENT BINARY STRING BY 1(USING LIST AND DICT)"
   ]
  },
  {
   "cell_type": "code",
   "execution_count": null,
   "metadata": {},
   "outputs": [],
   "source": [
    "dfa={'a':{'0':['b','1'],'1':['a','0']},\n",
    "     'b':{'0':['b','0'],'1':['b','1']}}\n",
    "class Mealy:\n",
    "    def  __init__(self,dfa):\n",
    "        self.CS='a'\n",
    "    def function(self,str1):\n",
    "        revstr=\"\"\n",
    "        for i in str1:\n",
    "            self.x=self.CS\n",
    "            self.CS=dfa[self.CS][i][0]\n",
    "            output=dfa[self.x][i][1]\n",
    "            revstr=revstr+output\n",
    "        print(reverse(revstr))\n",
    "def reverse(string): \n",
    "        string = string[::-1] \n",
    "        return string             \n",
    "string=input(\"Enter the string\")\n",
    "str1=reverse(string)\n",
    "t=Mealy(dfa)\n",
    "t.function(str1)"
   ]
  },
  {
   "cell_type": "markdown",
   "metadata": {},
   "source": []
  }
 ],
 "metadata": {
  "kernelspec": {
   "display_name": "Python 3",
   "language": "python",
   "name": "python3"
  },
  "language_info": {
   "codemirror_mode": {
    "name": "ipython",
    "version": 3
   },
   "file_extension": ".py",
   "mimetype": "text/x-python",
   "name": "python",
   "nbconvert_exporter": "python",
   "pygments_lexer": "ipython3",
   "version": "3.7.3"
  }
 },
 "nbformat": 4,
 "nbformat_minor": 4
}
